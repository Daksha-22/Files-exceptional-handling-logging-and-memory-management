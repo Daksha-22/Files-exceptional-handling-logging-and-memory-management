{
  "nbformat": 4,
  "nbformat_minor": 0,
  "metadata": {
    "colab": {
      "provenance": []
    },
    "kernelspec": {
      "name": "python3",
      "display_name": "Python 3"
    },
    "language_info": {
      "name": "python"
    }
  },
  "cells": [
    {
      "cell_type": "markdown",
      "source": [
        "#Theory Questions:"
      ],
      "metadata": {
        "id": "dURyofjxAKB-"
      }
    },
    {
      "cell_type": "markdown",
      "source": [
        "Q1.What is the difference between interpreted and compiled languages?\n",
        "\n",
        "Ans:1. Compiled Languages:\n",
        "\n",
        "Execution: Source code is translated entirely into machine code by a compiler before running.\n",
        "\n",
        "Examples: C, C++, Rust, Go.\n",
        "\n",
        "Advantages:\n",
        "\n",
        "Faster execution because the program is already in machine code.\n",
        "\n",
        "Errors are caught at compile-time.\n",
        "\n",
        "Disadvantages:\n",
        "\n",
        "Compilation step is required before execution.\n",
        "\n",
        "Less flexibility for on-the-fly changes.\n",
        "\n",
        "Workflow:\n",
        "\n",
        "Source Code → Compiler → Machine Code → Execution\n",
        "\n",
        "2. Interpreted Languages:\n",
        "\n",
        "Execution: Source code is executed line by line by an interpreter at runtime.\n",
        "\n",
        "Examples: Python, JavaScript, Ruby, PHP.\n",
        "\n",
        "Advantages:\n",
        "\n",
        "Easy to test and debug because you can run code interactively.\n",
        "\n",
        "Platform-independent (as long as the interpreter exists).\n",
        "\n",
        "Disadvantages:\n",
        "\n",
        "Slower execution than compiled code (interpreted line by line).\n",
        "\n",
        "Some errors only appear at runtime.\n",
        "\n",
        "Workflow:\n",
        "\n",
        "Source Code → Interpreter → Execution (line by line)\n"
      ],
      "metadata": {
        "id": "zt_pZNPjA37M"
      }
    },
    {
      "cell_type": "markdown",
      "source": [
        "Q2.What is exception handling in Python?\n",
        "\n",
        "Ans:Exception handling in Python is a mechanism to gracefully handle errors that occur during the execution of a program, without crashing it.\n",
        "\n",
        "example:\n",
        "\n",
        "    try:\n",
        "    # Code that might raise an exception\n",
        "        result = 10 / 0\n",
        "    except ZeroDivisionError:\n",
        "    # Code to handle the exception\n",
        "    print(\"Error: Cannot divide by zero!\")\n",
        "\n",
        "    output:\n",
        "    Error: Cannot divide by zero!\n",
        "\n"
      ],
      "metadata": {
        "id": "kOrSp_4GCMXw"
      }
    },
    {
      "cell_type": "markdown",
      "source": [
        "Q3.What is the purpose of the finally block in exception handling?\n",
        "\n",
        "Ans:The finally block in Python exception handling is used to execute code regardless of whether an exception occurred or not.\n",
        "\n",
        "Purpose:\n",
        "\n",
        "Cleanup resources:\n",
        "\n",
        "Ensure resources like files, network connections, or database connections are properly closed, even if an error occurs.\n",
        "\n",
        "Guaranteed execution:\n",
        "\n",
        "The code in finally runs no matter what—whether an exception is raised, handled, or even if the program uses a return statement inside try or except."
      ],
      "metadata": {
        "id": "KrJPOziDC_pa"
      }
    },
    {
      "cell_type": "markdown",
      "source": [
        "Q4.What is logging in Python?\n",
        "\n",
        "Ans:Logging in Python is a way to record messages about events that happen during the execution of a program. It is used to track errors, warnings, informational messages, and debugging information.\n",
        "\n"
      ],
      "metadata": {
        "id": "pasm7JwhEXkF"
      }
    },
    {
      "cell_type": "markdown",
      "source": [
        "Q5.What is the significance of the __del__ method in Python?\n",
        "\n",
        "Ans: In Python, the __del__ method is known as a destructor. It is called when an object is about to be destroyed, allowing you to perform cleanup actions, such as releasing resources or closing files.\n",
        "\n",
        "Significance of __del__:\n",
        "\n",
        "Automatic cleanup:\n",
        "\n",
        "It allows objects to clean up resources (like files, network connections, or memory) before they are removed by Python’s garbage collector.\n",
        "\n",
        "Resource management:\n",
        "\n",
        "Useful when you want to ensure external resources are released when the object is no longer needed.\n",
        "\n",
        "Called by garbage collector:\n",
        "\n",
        "The method is invoked automatically when an object’s reference count drops to zero.\n",
        "\n",
        "    Syntax Example:\n",
        "\n",
        "    class FileHandler:\n",
        "    def __init__(self, filename):\n",
        "        self.filename = filename\n",
        "        self.file = open(filename, \"w\")\n",
        "        print(f\"File '{filename}' opened.\")\n",
        "\n",
        "    def write_data(self, data):\n",
        "        self.file.write(data + \"\\n\")\n",
        "\n",
        "    def __del__(self):\n",
        "        # Destructor: called when object is about to be destroyed\n",
        "        self.file.close()\n",
        "        print(f\"File '{self.filename}' closed.\")\n",
        "\n",
        "      - Create object\n",
        "\n",
        "    handler = FileHandler(\"example.txt\")\n",
        "\n",
        "    handler.write_data(\"Hello, Python!\")\n",
        "\n",
        "    -Delete object explicitly\n",
        "\n",
        "    del handler\n",
        "\n",
        "    Output:\n",
        "\n",
        "    File 'example.txt' opened.\n",
        "    File 'example.txt' closed.\n"
      ],
      "metadata": {
        "id": "iviH8HkME1WA"
      }
    },
    {
      "cell_type": "markdown",
      "source": [
        "Q6.What is the difference between import and from ... import in Python?\n",
        "\n",
        "Ans: In Python, both import and from ... import are used to bring code from modules into your program, but they behave differently. Here’s a clear explanation:\n",
        "\n",
        "1. import module:\n",
        "\n",
        "- Imports the entire module.\n",
        "\n",
        "- To access functions, classes, or variables, you need to prefix them with the module name.\n",
        "\n",
        "Example:\n",
        "\n",
        "    import math\n",
        "\n",
        "    print(math.sqrt(16))   # Access sqrt() function using module name\n",
        "    print(math.pi)         # Access pi constant using module name\n",
        "\n",
        "    output:\n",
        "\n",
        "    4.0\n",
        "    3.141592653589793\n",
        "\n"
      ],
      "metadata": {
        "id": "tOvcuNd-GX23"
      }
    },
    {
      "cell_type": "markdown",
      "source": [
        "Q7.How can you handle multiple exceptions in Python?\n",
        "\n",
        "Ans:In Python, you can handle multiple exceptions in a try-except block in several ways. This allows your program to respond differently depending on the type of error that occurs.\n",
        "\n",
        "1. Multiple except blocks\n",
        "\n",
        "You can write separate except blocks for each exception type:\n",
        "\n",
        "    try:\n",
        "    num = int(input(\"Enter a number: \"))\n",
        "    result = 10 / num\n",
        "    my_list = [1, 2, 3]\n",
        "    print(my_list[5])  # This may raise IndexError\n",
        "    except ZeroDivisionError:\n",
        "    print(\"Error: Cannot divide by zero!\")\n",
        "    except ValueError:\n",
        "    print(\"Error: Invalid input! Please enter a number.\")\n",
        "    except IndexError:\n",
        "    print(\"Error: List index out of range!\")\n",
        "Explanation:\n",
        "\n",
        "Each block handles a specific exception.\n",
        "\n",
        "Only the matching except block is executed.\n",
        "\n",
        "2. Handling multiple exceptions in a single except block\n",
        "You can catch multiple exceptions together using a tuple:\n",
        "\n",
        "\n",
        "    num = int(input(\"Enter a number: \"))\n",
        "    result = 10 / num\n",
        "    except (ZeroDivisionError, ValueError) as e:\n",
        "    print(f\"Error occurred: {e}\")\n",
        "Explanation:\n",
        "\n",
        "(ZeroDivisionError, ValueError) → Catches either exception.\n",
        "\n",
        "as e allows you to access the exception object for more details.\n",
        "\n",
        "3. Using a generic Exception catch\n",
        "You can also catch any exception, though it is less specific\n",
        "\n",
        "\n",
        "    try:\n",
        "    num = int(input(\"Enter a number: \"))\n",
        "    result = 10 / num\n",
        "    except Exception as e:\n",
        "    print(f\"An unexpected error occurred: {e}\")\n"
      ],
      "metadata": {
        "id": "tzRO0FrTHMYM"
      }
    },
    {
      "cell_type": "markdown",
      "source": [
        "Q8.What is the purpose of the with statement when handling files in Python?\n",
        "\n",
        "Ans:The with statement in Python is used to simplify resource management—especially for things like opening and closing files.\n",
        "\n",
        "Purpose:\n",
        "\n",
        "- Automatic resource cleanup\n",
        "\n",
        "  It ensures the file is closed automatically after the block of code finishes, even if an error occurs.\n",
        "\n",
        "- Cleaner, shorter code\n",
        "\n",
        "  You don’t have to call file.close() manually.\n",
        "\n",
        "- Better error handling\n",
        "\n",
        "  It prevents resource leaks by guaranteeing cleanup.\n",
        "\n",
        "Example Without 'with':\n",
        "\n",
        "    file = open(\"example.txt\", \"r\")\n",
        "    try:\n",
        "    content = file.read()\n",
        "    print(content)\n",
        "    finally:\n",
        "    file.close()  # Must remember to close\n",
        "Example With 'with':\n",
        "\n",
        "    with open(\"example.txt\", \"r\") as file:\n",
        "    content = file.read()\n",
        "    print(content)\n",
        "    \n",
        "    File is automatically closed here\n"
      ],
      "metadata": {
        "id": "NkJN8X8leDf0"
      }
    },
    {
      "cell_type": "markdown",
      "source": [
        "Q9.What is the difference between multithreading and multiprocessing?\n",
        "\n",
        "Ans:1.\n",
        "\n",
        "- Multithreading\n",
        "\n",
        "Definition: Runs multiple threads within the same process.\n",
        "\n",
        "Memory: Threads share the same memory space.\n",
        "\n",
        "Speed: Lightweight and faster to start than processes.\n",
        "\n",
        "Best for: I/O-bound tasks (waiting for network, file I/O, database queries).\n",
        "\n",
        "Limitation: In CPython, the Global Interpreter Lock (GIL) allows only one thread to execute Python bytecode at a time, so CPU-bound code won’t truly run in parallel.\n",
        "\n",
        "Example Use Cases:\n",
        "\n",
        "Reading multiple files at once\n",
        "\n",
        "Handling multiple network requests\n",
        "\n",
        "Web scraping\n",
        "\n",
        "Example:\n",
        "\n",
        "    import threading\n",
        "\n",
        "    def task():\n",
        "    print(\"Thread is running\")\n",
        "\n",
        "    t1 = threading.Thread(target=task)\n",
        "    t1.start()\n",
        "    t1.join()\n",
        "2. Multiprocessing\n",
        "\n",
        "Definition: Runs multiple processes, each with its own Python interpreter and memory space.\n",
        "\n",
        "Memory: Each process has separate memory (no shared variables by default).\n",
        "\n",
        "Speed: Heavier than threads due to process creation overhead, but can bypass GIL.\n",
        "\n",
        "Best for: CPU-bound tasks (intensive computation).\n",
        "\n",
        "Example Use Cases:\n",
        "\n",
        "Image processing\n",
        "\n",
        "Scientific simulations\n",
        "\n",
        "Data analysis\n",
        "\n",
        "Example:\n",
        "\n",
        "    import multiprocessing\n",
        "\n",
        "    def task():\n",
        "    print(\"Process is running\")\n",
        "\n",
        "    p1 = multiprocessing.Process(target=task)\n",
        "    p1.start()\n",
        "    p1.join()\n"
      ],
      "metadata": {
        "id": "SSYtIAY5f2N8"
      }
    },
    {
      "cell_type": "markdown",
      "source": [
        "Q10.What are the advantages of using logging in a program?\n",
        "\n",
        "Ans:Advantages of using logging in a program (short):\n",
        "\n",
        "Tracks program flow → Helps monitor what’s happening during execution.\n",
        "\n",
        "Debugging aid → Easier to identify and fix issues.\n",
        "\n",
        "Error recording → Captures exceptions and issues for later review.\n",
        "\n",
        "Persistent history → Saves logs to files for long-term analysis.\n",
        "\n",
        "Different levels → Control importance (INFO, WARNING, ERROR, etc.).\n",
        "\n",
        "Better than print() → Can be turned on/off or redirected without changing code."
      ],
      "metadata": {
        "id": "-RA_Zabxv7gK"
      }
    },
    {
      "cell_type": "markdown",
      "source": [
        "Q11.What is memory management in Python?\n",
        "\n",
        "Ans:Memory management in Python:\n",
        "\n",
        "It is the process of allocating, using, and freeing memory during a program’s execution.\n",
        "\n",
        "Python handles it automatically using:\n",
        "\n",
        "Private heap space → All objects and data are stored here.\n",
        "\n",
        "Memory manager → Allocates and releases memory as needed.\n",
        "\n",
        "Garbage collector → Automatically removes unused objects to free memory."
      ],
      "metadata": {
        "id": "m68ulh-S7xa4"
      }
    },
    {
      "cell_type": "markdown",
      "source": [
        "Q12.What are the basic steps involved in exception handling in Python?\n",
        "\n",
        "Ans: Basic steps in exception handling in Python:\n",
        "\n",
        "Identify risky code → Find code that might cause errors.\n",
        "\n",
        "Wrap in a try block → Place the risky code inside try.\n",
        "\n",
        "Handle with except → Catch and handle the exception if it occurs.\n",
        "\n",
        "(Optional) Use else → Code here runs only if no exception occurred.\n",
        "\n",
        "(Optional) Use finally → Code here always runs, whether there’s an exception or not (e.g., cleanup)."
      ],
      "metadata": {
        "id": "83QwObxW9hur"
      }
    },
    {
      "cell_type": "markdown",
      "source": [
        "Q13.Why is memory management important in Python?\n",
        "\n",
        "Ans:Memory management is important in Python because:\n",
        "\n",
        "Prevents memory leaks → Avoids wasted memory from unused objects staying in RAM.\n",
        "\n",
        "Optimizes performance → Efficient memory use keeps programs fast.\n",
        "\n",
        "Ensures stability → Reduces risk of crashes due to running out of memory.\n",
        "\n",
        "Supports scalability → Allows handling larger datasets or more users without excessive resource usage.\n",
        "\n",
        "Automatic garbage collection → Lets developers focus on logic instead of manually freeing memory.\n",
        "\n",
        "In short, good memory management means smoother, faster, and more reliable Python programs."
      ],
      "metadata": {
        "id": "NclVge8X-GmG"
      }
    },
    {
      "cell_type": "markdown",
      "source": [
        "Q14.What is the role of try and except in exception handling?\n",
        "\n",
        "Ans:Role of try and except in exception handling:\n",
        "\n",
        "try block → Contains the code that might cause an exception. Python tries to run it.\n",
        "\n",
        "except block → Contains the code that runs only if an exception occurs in the try block, allowing the program to handle the error instead of crashing."
      ],
      "metadata": {
        "id": "1al0DWAa-rGJ"
      }
    },
    {
      "cell_type": "markdown",
      "source": [
        "Q15.How does Python's garbage collection system work?\n",
        "\n",
        "Ans: Python’s garbage collection system automatically reclaims memory used by objects that are no longer referenced in a program.\n",
        "\n",
        "It works mainly through two mechanisms:\n",
        "\n",
        "Reference Counting\n",
        "\n",
        "Every object keeps track of how many references point to it.\n",
        "\n",
        "When the count drops to zero (no variable references it), the object is immediately destroyed.\n",
        "\n",
        "Garbage Collector for Cyclic References\n",
        "\n",
        "Sometimes, objects reference each other in a cycle (e.g., two lists referring to each other).\n",
        "\n",
        "Reference counting alone can’t free them.\n",
        "\n",
        "Python’s gc module detects and clears these cycles."
      ],
      "metadata": {
        "id": "exXqkLYwBKI1"
      }
    },
    {
      "cell_type": "markdown",
      "source": [
        "Q16.What is the purpose of the else block in exception handling?\n",
        "\n",
        "Ans:The else block in Python’s exception handling is used to run code only if no exception occurs in the try block.\n",
        "\n",
        "Purpose:\n",
        "\n",
        "Keeps the \"normal\" code separate from error-handling code.\n",
        "\n",
        "Improves readability by clearly distinguishing what happens in success vs. failure cases.\n",
        "\n",
        "Example:\n",
        "\n",
        "    try:\n",
        "    num = int(input(\"Enter a number: \"))\n",
        "    result = 10 / num\n",
        "    except ZeroDivisionError:\n",
        "    print(\"Error: Cannot divide by zero.\")\n",
        "    except ValueError:\n",
        "    print(\"Error: Invalid input, please enter a number.\")\n",
        "    else:\n",
        "    print(f\"Division successful! Result = {result}\")\n"
      ],
      "metadata": {
        "id": "9kps2IbvEtVc"
      }
    },
    {
      "cell_type": "markdown",
      "source": [
        "Q17.What are the common logging levels in Python?\n",
        "\n",
        "Ans:The common logging levels in Python (from lowest to highest severity) are:\n",
        "\n",
        "DEBUG → Detailed diagnostic information, useful for debugging.\n",
        "\n",
        "INFO → General information about program execution.\n",
        "\n",
        "WARNING → Indicates something unexpected or a potential problem.\n",
        "\n",
        "ERROR → An error occurred; program can continue running.\n",
        "\n",
        "CRITICAL → Serious error; program may not be able to continue.\n",
        "\n",
        "These levels help control the importance and visibility of log messages."
      ],
      "metadata": {
        "id": "x_nVEbaGGN2I"
      }
    },
    {
      "cell_type": "markdown",
      "source": [
        "Q18.What is the difference between os.fork() and multiprocessing in Python?\n",
        "\n",
        "Ans:Here’s the difference between os.fork() and the multiprocessing module in Python:\n",
        "\n",
        "1. os.fork()\n",
        "\n",
        "Definition: A low-level system call available on Unix/Linux that creates a child process by duplicating the current process.\n",
        "\n",
        "Memory: Child process shares code but has a separate memory space (copy-on-write).\n",
        "\n",
        "Portability: Not available on Windows.\n",
        "\n",
        "Control: Requires manual handling of process IDs and inter-process communication.\n",
        "\n",
        "Example:\n",
        "\n",
        "    from multiprocessing import Process\n",
        "\n",
        "    def task():\n",
        "    print(\"Process running\")\n",
        "\n",
        "    p = Process(target=task)\n",
        "    p.start()\n",
        "    p.join()\n",
        "\n"
      ],
      "metadata": {
        "id": "GgUxrqvNG_uo"
      }
    },
    {
      "cell_type": "markdown",
      "source": [
        "Q19.What is the importance of closing a file in Python?\n",
        "\n",
        "Ans:Closing a file in Python is important because it ensures that:\n",
        "\n",
        "Data is properly saved → Any data buffered in memory is written to the file.\n",
        "\n",
        "Resources are freed → File handles and system resources are released.\n",
        "\n",
        "Prevents file corruption → Open files left unclosed can lead to incomplete writes or data loss.\n",
        "\n",
        "Avoids resource leaks → Keeps the program and system stable, especially when handling many files."
      ],
      "metadata": {
        "id": "0O3l2gg4IIg2"
      }
    },
    {
      "cell_type": "markdown",
      "source": [
        "Q20.What is the difference between file.read() and file.readline() in Python?\n",
        "\n",
        "Ans:In Python, file.read() and file.readline() are used to read content from a file, but they behave differently:\n",
        "\n",
        "1. file.read()\n",
        "\n",
        "Reads the entire file (or a specified number of bytes) into a single string.\n",
        "\n",
        "Returns: One string containing all file content.\n",
        "\n",
        "Use case: When you want to process the whole file at once.\n",
        "\n",
        "Example:\n",
        "\n",
        "    with open(\"example.txt\", \"r\") as file:\n",
        "    content = file.read()\n",
        "    print(content)\n",
        "\n",
        "2. file.readline()\n",
        "\n",
        "Reads one line at a time from the file.\n",
        "\n",
        "Returns: A single line as a string (including the newline character \\n).\n",
        "\n",
        "Use case: When you want to process the file line by line, useful for large files.\n",
        "\n",
        "Example:\n",
        "\n",
        "    with open(\"example.txt\", \"r\") as file:\n",
        "    line = file.readline()\n",
        "    while line:\n",
        "        print(line.strip())\n",
        "        line = file.readline()\n"
      ],
      "metadata": {
        "id": "vicKypEqIhyd"
      }
    },
    {
      "cell_type": "markdown",
      "source": [
        "Q21.What is the logging module in Python used for?\n",
        "\n",
        "Ans:The logging module in Python is used for recording messages about events that happen during program execution.\n",
        "\n",
        "Purpose / Uses:\n",
        "\n",
        "Debugging: Track program flow and variable values.\n",
        "\n",
        "Error tracking: Log exceptions and errors for analysis.\n",
        "\n",
        "Monitoring: Keep a record of application activity in production.\n",
        "\n",
        "Audit trails: Maintain a history of important events or actions.\n",
        "\n",
        "Control over output: Allows different log levels (DEBUG, INFO, WARNING, ERROR, CRITICAL) and can log to console, files, or both."
      ],
      "metadata": {
        "id": "ZSnteieyJDhT"
      }
    },
    {
      "cell_type": "markdown",
      "source": [
        "Q22.What is the os module in Python used for in file handling?\n",
        "\n",
        "Ans:The os module in Python is used to interact with the operating system, providing functions to manage files and directories. It complements basic file handling by allowing operations that go beyond reading or writing files.\n",
        "\n",
        "Common Uses in File Handling:\n",
        "\n",
        "Check if a file or directory exists\n",
        "\n",
        "    import os\n",
        "    print(os.path.exists(\"example.txt\"))  # True if file exists\n",
        "\n",
        "\n",
        "Create or remove directories\n",
        "\n",
        "    os.mkdir(\"new_folder\")   # Create directory\n",
        "    os.rmdir(\"new_folder\")   # Remove empty directory\n",
        "\n",
        "\n",
        "Delete files\n",
        "\n",
        "    os.remove(\"example.txt\")  # Delete a file\n",
        "\n",
        "\n",
        "Rename or move files\n",
        "\n",
        "    os.rename(\"old.txt\", \"new.txt\")  # Rename file\n",
        "\n",
        "\n",
        "Get file information\n",
        "\n",
        "    print(os.path.getsize(\"example.txt\"))  # File size in bytes\n",
        "    print(os.path.abspath(\"example.txt\"))  # Absolute path\n",
        "\n",
        "\n",
        "List contents of a directory\n",
        "\n",
        "    print(os.listdir(\".\"))  # List files and folders in current directory\n"
      ],
      "metadata": {
        "id": "lxUP9aSDJe2r"
      }
    },
    {
      "cell_type": "markdown",
      "source": [
        "Q23.What are the challenges associated with memory management in Python?\n",
        "\n",
        "Ans:Challenges associated with memory management in Python:\n",
        "\n",
        "Reference cycles:\n",
        "\n",
        "Objects that reference each other can form cycles, which may not be immediately collected by reference counting alone.\n",
        "\n",
        "Global Interpreter Lock (GIL) limitations:\n",
        "\n",
        "In multi-threaded programs, memory-heavy operations can be inefficient because the GIL prevents true parallel execution.\n",
        "\n",
        "High memory usage for large data:\n",
        "\n",
        "Storing large datasets (lists, dictionaries, images) can consume a lot of memory.\n",
        "\n",
        "Unreleased resources:\n",
        "\n",
        "If files, network connections, or database connections are not properly closed, memory leaks may occur.\n",
        "\n",
        "Garbage collector overhead:\n",
        "\n",
        "Automatic garbage collection can introduce performance overhead, especially in programs with many temporary objects.\n",
        "\n",
        "Manual tuning needed in some cases:\n",
        "\n",
        "Sometimes developers must explicitly manage memory or use the gc module to optimize cleanup for complex applications."
      ],
      "metadata": {
        "id": "qWxmZZuKKeQG"
      }
    },
    {
      "cell_type": "markdown",
      "source": [
        "Q24.How do you raise an exception manually in Python?\n",
        "\n",
        "Ans:In Python, you can raise an exception manually using the raise statement. This is useful when you want to signal that an error or unexpected condition has occurred.\n",
        "\n",
        "Syntax:\n",
        "\n",
        "    raise ExceptionType(\"Error message\")\n",
        "\n",
        "\n",
        "    ExceptionType → The type of exception you want to raise (e.g., ValueError, TypeError, RuntimeError).\n",
        "\n",
        "    \"Error message\" → Optional description of the error.\n",
        "\n",
        "Example: raising a value error\n",
        "\n",
        "    def divide(a, b):\n",
        "    if b == 0:\n",
        "        raise ValueError(\"Cannot divide by zero!\")\n",
        "    return a / b\n",
        "\n",
        "    result = divide(10, 0)\n",
        "    output:\n",
        "    ValueError: Cannot divide by zero!\n",
        "\n",
        "\n"
      ],
      "metadata": {
        "id": "uQGq-npwK7Tk"
      }
    },
    {
      "cell_type": "markdown",
      "source": [
        "Q25.Why is it important to use multithreading in certain applications?\n",
        "\n",
        "Ans: Multithreading is important in certain applications because it allows a program to perform multiple tasks concurrently, improving responsiveness and efficiency.\n",
        "\n",
        "Key Reasons to Use Multithreading:\n",
        "\n",
        "Improves responsiveness:\n",
        "\n",
        "In GUI applications or servers, threads can handle background tasks without freezing the main interface.\n",
        "\n",
        "Efficient I/O operations:\n",
        "\n",
        "Threads can perform file, network, or database operations while the main program continues, reducing idle time.\n",
        "\n",
        "Better resource utilization:\n",
        "\n",
        "Multiple threads can share the same memory space, making context switching faster than creating multiple processes.\n",
        "\n",
        "Parallelism in I/O-bound tasks:\n",
        "\n",
        "Ideal for applications that spend a lot of time waiting for external resources, like web scraping or network requests.\n",
        "\n",
        "Simpler program design:\n",
        "\n",
        "Threads can handle independent tasks concurrently without requiring separate processes.\n",
        "\n",
        "Example Use Cases:\n",
        "\n",
        "Web servers handling multiple client requests simultaneously\n",
        "\n",
        "Download managers or web scrapers\n",
        "\n",
        "Real-time applications like chat apps or games"
      ],
      "metadata": {
        "id": "qOGpzVzPMD6j"
      }
    },
    {
      "cell_type": "markdown",
      "source": [
        "#Practical Questions:\n",
        "\n",
        "1.How can you open a file for writing in Python and write a string to it?"
      ],
      "metadata": {
        "id": "4ZRZSEkxymlZ"
      }
    },
    {
      "cell_type": "code",
      "source": [
        "file=open(\"filename.txt\",\"w\")\n",
        "file.write(\"hello pw\")\n",
        "file.close()\n",
        "# Open file for writing\n",
        "file = open(\"example.txt\", \"w\")\n",
        "\n",
        "\n",
        "\n",
        "# Reading back to show output\n",
        "file = open(\"filename.txt\", \"r\")\n",
        "content = file.read()\n",
        "file.close()\n",
        "\n",
        "print(\"File content:\", content)\n",
        "\n"
      ],
      "metadata": {
        "id": "mZhAwIWfzFGd",
        "colab": {
          "base_uri": "https://localhost:8080/"
        },
        "outputId": "48974dc9-6d51-4375-a51f-996f4a9f33a0"
      },
      "execution_count": null,
      "outputs": [
        {
          "output_type": "stream",
          "name": "stdout",
          "text": [
            "File content: hello pw\n"
          ]
        }
      ]
    },
    {
      "cell_type": "markdown",
      "source": [
        " Q2.Write a Python program to read the contents of a file and print each line."
      ],
      "metadata": {
        "id": "zyrkHGj6W4qv"
      }
    },
    {
      "cell_type": "code",
      "source": [
        "# Create a file with some text for demonstration\n",
        "with open(\"file.txt\", \"w\") as file:\n",
        "    file.write(\"my name is daksha\\n\")\n",
        "    file.write(\"my best friend is dimple\\n\")\n",
        "    file.write(\"my brother name is eshaan\\n\")\n",
        "\n",
        "# Open file for reading\n",
        "with open(\"file.txt\", \"r\") as file:\n",
        "    for line in file:\n",
        "        print(line.strip())  # strip() removes the newline at the end\n"
      ],
      "metadata": {
        "colab": {
          "base_uri": "https://localhost:8080/"
        },
        "id": "cq8jiV4oX_jO",
        "outputId": "c86cba8c-d2a9-46c9-c606-34bbc4d72bc4"
      },
      "execution_count": null,
      "outputs": [
        {
          "output_type": "stream",
          "name": "stdout",
          "text": [
            "my name is daksha\n",
            "my best friend is dimple\n",
            "my brother name is eshaan\n"
          ]
        }
      ]
    },
    {
      "cell_type": "markdown",
      "source": [
        "Q3.How would you handle a case where the file doesn't exist while trying to open it for reading?"
      ],
      "metadata": {
        "id": "r7m1kMG8Yst0"
      }
    },
    {
      "cell_type": "code",
      "source": [
        "filename = \"non_existent.txt\"\n",
        "\n",
        "try:\n",
        "    with open(filename, \"r\") as file:\n",
        "        for line in file:\n",
        "            print(line.strip())\n",
        "except FileNotFoundError:\n",
        "    print(f\"Error: The file '{filename}' was not found.\")\n"
      ],
      "metadata": {
        "colab": {
          "base_uri": "https://localhost:8080/"
        },
        "id": "Kl1PcOxPbd6p",
        "outputId": "ea556ba0-4dbf-4960-fd4d-163d9740be1a"
      },
      "execution_count": null,
      "outputs": [
        {
          "output_type": "stream",
          "name": "stdout",
          "text": [
            "Error: The file 'non_existent.txt' was not found.\n"
          ]
        }
      ]
    },
    {
      "cell_type": "markdown",
      "source": [
        "Q4. Write a Python script that reads from one file and writes its content to another file.\n"
      ],
      "metadata": {
        "id": "G8sEqnRWbpFt"
      }
    },
    {
      "cell_type": "code",
      "source": [
        "# Create a sample file to read from\n",
        "with open(\"source.txt\", \"w\") as src:\n",
        "    src.write(\"gokulashtmi is on friday.\\n\")\n",
        "    src.write(\"ganesh chaturthi is coming.\\n\")\n",
        "    src.write(\"festive season has arrived.\\n\")\n",
        "\n",
        "# Read from source.txt and write to destination.txt\n",
        "with open(\"source.txt\", \"r\") as source_file:\n",
        "    with open(\"destination.txt\", \"w\") as destination_file:\n",
        "        for line in source_file:\n",
        "            destination_file.write(line)\n",
        "\n",
        "# Verify by reading destination.txt\n",
        "with open(\"destination.txt\", \"r\") as dest:\n",
        "    print(\"Contents of destination.txt:\")\n",
        "    print(dest.read())\n"
      ],
      "metadata": {
        "colab": {
          "base_uri": "https://localhost:8080/"
        },
        "id": "39_phyczbwP7",
        "outputId": "cb830415-8875-4c3a-8010-6af8422de310"
      },
      "execution_count": null,
      "outputs": [
        {
          "output_type": "stream",
          "name": "stdout",
          "text": [
            "Contents of destination.txt:\n",
            "gokulashtmi is on friday.\n",
            "ganesh chaturthi is coming.\n",
            "festive season has arrived.\n",
            "\n"
          ]
        }
      ]
    },
    {
      "cell_type": "markdown",
      "source": [
        "Q5. How would you catch and handle division by zero error in Python?"
      ],
      "metadata": {
        "id": "qSRm-j6BdEGl"
      }
    },
    {
      "cell_type": "code",
      "source": [
        "try:\n",
        "    numerator = 10\n",
        "    denominator = 0\n",
        "    result = numerator / denominator\n",
        "    print(\"Result:\", result)\n",
        "except ZeroDivisionError:\n",
        "    print(\"Error: Cannot divide by zero!\")\n"
      ],
      "metadata": {
        "colab": {
          "base_uri": "https://localhost:8080/"
        },
        "id": "7AdF962OdW2X",
        "outputId": "3f7c5fe9-0e97-4b1d-c4b2-c8608d1f399f"
      },
      "execution_count": null,
      "outputs": [
        {
          "output_type": "stream",
          "name": "stdout",
          "text": [
            "Error: Cannot divide by zero!\n"
          ]
        }
      ]
    },
    {
      "cell_type": "markdown",
      "source": [
        "Q6.Write a Python program that logs an error message to a log file when a division by zero exception occurs?"
      ],
      "metadata": {
        "id": "FHMctTG3dc03"
      }
    },
    {
      "cell_type": "code",
      "source": [
        "import logging\n",
        "\n",
        "# Configure logging\n",
        "logging.basicConfig(\n",
        "    filename=\"error_log.txt\",  # Log file name\n",
        "    level=logging.ERROR,       # Log only ERROR and above\n",
        "    format=\"%(asctime)s - %(levelname)s - %(message)s\"\n",
        ")\n",
        "\n",
        "try:\n",
        "    numerator = 10\n",
        "    denominator = 0\n",
        "    result = numerator / denominator\n",
        "    print(\"Result:\", result)\n",
        "except ZeroDivisionError as e:\n",
        "    logging.error(\"Division by zero occurred: %s\", e)\n",
        "    print(\"Error occurred! Check 'error_log.txt' for details.\")\n"
      ],
      "metadata": {
        "colab": {
          "base_uri": "https://localhost:8080/"
        },
        "id": "ixrjgfvvdiem",
        "outputId": "70782e37-1322-4e01-cee1-eff417a54e9e"
      },
      "execution_count": null,
      "outputs": [
        {
          "output_type": "stream",
          "name": "stderr",
          "text": [
            "ERROR:root:Division by zero occurred: division by zero\n"
          ]
        },
        {
          "output_type": "stream",
          "name": "stdout",
          "text": [
            "Error occurred! Check 'error_log.txt' for details.\n"
          ]
        }
      ]
    },
    {
      "cell_type": "markdown",
      "source": [
        "Q7.How do you log information at different levels (INFO, ERROR, WARNING) in Python using the logging module?"
      ],
      "metadata": {
        "id": "iumYgEUCdwy8"
      }
    },
    {
      "cell_type": "code",
      "source": [
        "import logging\n",
        "\n",
        "# Configure logging\n",
        "logging.basicConfig(\n",
        "    filename=\"app_log.txt\",   # Log file\n",
        "    level=logging.DEBUG,      # Minimum level to capture\n",
        "    format=\"%(asctime)s - %(levelname)s - %(message)s\"\n",
        ")\n",
        "\n",
        "# Log messages at different levels\n",
        "logging.debug(\"This is a DEBUG message — useful for troubleshooting.\")\n",
        "logging.info(\"This is an INFO message — program is running smoothly.\")\n",
        "logging.warning(\"This is a WARNING message — something might be wrong.\")\n",
        "logging.error(\"This is an ERROR message — something went wrong.\")\n",
        "logging.critical(\"This is a CRITICAL message — serious failure!\")\n"
      ],
      "metadata": {
        "colab": {
          "base_uri": "https://localhost:8080/"
        },
        "id": "uQyLSTL4eFu_",
        "outputId": "d5483a7f-0cfd-456e-bf71-29fe3fafd9b2"
      },
      "execution_count": null,
      "outputs": [
        {
          "output_type": "stream",
          "name": "stderr",
          "text": [
            "WARNING:root:This is a WARNING message — something might be wrong.\n",
            "ERROR:root:This is an ERROR message — something went wrong.\n",
            "CRITICAL:root:This is a CRITICAL message — serious failure!\n"
          ]
        }
      ]
    },
    {
      "cell_type": "markdown",
      "source": [
        "Q8.Write a program to handle a file opening error using exception handling?"
      ],
      "metadata": {
        "id": "2t2hLPMwe4XR"
      }
    },
    {
      "cell_type": "code",
      "source": [
        "filename = \"non_existing_file.txt\"\n",
        "\n",
        "try:\n",
        "    with open(filename, \"r\") as file:\n",
        "        content = file.read()\n",
        "        print(content)\n",
        "except FileNotFoundError:\n",
        "    print(f\"Error: The file '{filename}' does not exist.\")\n",
        "except PermissionError:\n",
        "    print(f\"Error: You don't have permission to open '{filename}'.\")\n",
        "except Exception as e:\n",
        "    print(f\"An unexpected error occurred: {e}\")\n"
      ],
      "metadata": {
        "colab": {
          "base_uri": "https://localhost:8080/"
        },
        "id": "zAJE_qvKfAHD",
        "outputId": "25a083d9-f242-4b27-d77e-688b96670ed1"
      },
      "execution_count": null,
      "outputs": [
        {
          "output_type": "stream",
          "name": "stdout",
          "text": [
            "Error: The file 'non_existing_file.txt' does not exist.\n"
          ]
        }
      ]
    },
    {
      "cell_type": "markdown",
      "source": [
        "Q9.How can you read a file line by line and store its content in a list in Python?"
      ],
      "metadata": {
        "id": "tNdiXu02fg09"
      }
    },
    {
      "cell_type": "code",
      "source": [
        "# Create a sample file for demonstration\n",
        "with open(\"data.txt\", \"w\") as file:\n",
        "    file.write(\"Dimple\\n\")\n",
        "    file.write(\"Hitesh\\n\")\n",
        "    file.write(\"Ojas\\n\")\n",
        "\n",
        "# Read file line by line into a list\n",
        "with open(\"data.txt\", \"r\") as file:\n",
        "    lines = [line.strip() for line in file]  # strip() removes newline characters\n",
        "\n",
        "print(lines)\n"
      ],
      "metadata": {
        "colab": {
          "base_uri": "https://localhost:8080/"
        },
        "id": "IJWbyghOgHZM",
        "outputId": "752e0077-e4cb-4f68-f2d9-ea87051639ab"
      },
      "execution_count": null,
      "outputs": [
        {
          "output_type": "stream",
          "name": "stdout",
          "text": [
            "['Dimple', 'Hitesh', 'Ojas']\n"
          ]
        }
      ]
    },
    {
      "cell_type": "markdown",
      "source": [
        "Q10.How can you append data to an existing file in Python?"
      ],
      "metadata": {
        "id": "A2hhraRhgmpE"
      }
    },
    {
      "cell_type": "code",
      "source": [
        "# Append data to an existing file\n",
        "with open(\"example.txt\", \"a\") as file:\n",
        "    file.write(\"This is a new line.\\n\")\n",
        "    file.write(\"Appending another line.\\n\")\n",
        "\n",
        "# Verify by reading the file\n",
        "with open(\"example.txt\", \"r\") as file:\n",
        "    content = file.read()\n",
        "    print(content)\n"
      ],
      "metadata": {
        "colab": {
          "base_uri": "https://localhost:8080/"
        },
        "id": "TvIYRgDog2La",
        "outputId": "73796cab-01e8-486c-edce-5db322df820f"
      },
      "execution_count": null,
      "outputs": [
        {
          "output_type": "stream",
          "name": "stdout",
          "text": [
            "This is a new line.\n",
            "Appending another line.\n",
            "\n"
          ]
        }
      ]
    },
    {
      "cell_type": "markdown",
      "source": [
        "Q11. Write a Python program that uses a try-except block to handle an error when attempting to access a dictionary key that doesn't exist?"
      ],
      "metadata": {
        "id": "sQcPC8XHh4YB"
      }
    },
    {
      "cell_type": "code",
      "source": [
        "# Sample dictionary\n",
        "student = {\n",
        "    \"name\": \"Eshaan\",\n",
        "    \"age\": 15,\n",
        "    \"grade\": \"A\"\n",
        "}\n",
        "\n",
        "# Attempt to access a key that may not exist\n",
        "try:\n",
        "    print(\"Student's address:\", student[\"address\"])\n",
        "except KeyError:\n",
        "    print(\"Error: The key 'address' does not exist in the dictionary.\")\n"
      ],
      "metadata": {
        "colab": {
          "base_uri": "https://localhost:8080/"
        },
        "id": "VdwU3ouYi30F",
        "outputId": "a1871706-2e3b-4f49-f929-addeb1de18f3"
      },
      "execution_count": null,
      "outputs": [
        {
          "output_type": "stream",
          "name": "stdout",
          "text": [
            "Error: The key 'address' does not exist in the dictionary.\n"
          ]
        }
      ]
    },
    {
      "cell_type": "markdown",
      "source": [
        "Q12.Write a program that demonstrates using multiple except blocks to handle different types of exceptions"
      ],
      "metadata": {
        "id": "kyjhLhWPjt3L"
      }
    },
    {
      "cell_type": "code",
      "source": [
        "try:\n",
        "    # Input numbers\n",
        "    numerator = int(input(\"Enter numerator: \"))\n",
        "    denominator = int(input(\"Enter denominator: \"))\n",
        "\n",
        "    # Perform division\n",
        "    result = numerator / denominator\n",
        "\n",
        "    # Access a list element\n",
        "    numbers = [1, 2, 3]\n",
        "    print(\"Accessing index 5 of the list:\", numbers[5])\n",
        "\n",
        "except ZeroDivisionError:\n",
        "    print(\"Error: Cannot divide by zero!\")\n",
        "\n",
        "except ValueError:\n",
        "    print(\"Error: Invalid input! Please enter integers only.\")\n",
        "\n",
        "except IndexError:\n",
        "    print(\"Error: List index out of range!\")\n",
        "\n",
        "except Exception as e:\n",
        "    print(\"An unexpected error occurred:\", e)\n",
        "\n",
        "else:\n",
        "    print(\"Division result:\", result)\n",
        "\n"
      ],
      "metadata": {
        "colab": {
          "base_uri": "https://localhost:8080/"
        },
        "id": "--Px6nVkkcIl",
        "outputId": "28b31029-6a32-405b-bc93-ff64f248c689"
      },
      "execution_count": null,
      "outputs": [
        {
          "output_type": "stream",
          "name": "stdout",
          "text": [
            "Enter numerator: 10\n",
            "Enter denominator: 2\n",
            "Error: List index out of range!\n"
          ]
        }
      ]
    },
    {
      "cell_type": "markdown",
      "source": [
        "Q13.How would you check if a file exists before attempting to read it in Python?"
      ],
      "metadata": {
        "id": "9VJbwO6IzPFo"
      }
    },
    {
      "cell_type": "code",
      "source": [
        "import os\n",
        "\n",
        "filename = \"example.txt\"\n",
        "\n",
        "if os.path.exists(filename):\n",
        "    with open(filename, \"r\") as file:\n",
        "        content = file.read()\n",
        "        print(\"File content:\")\n",
        "        print(content)\n",
        "else:\n",
        "    print(f\"Error: The file '{filename}' does not exist.\")\n"
      ],
      "metadata": {
        "colab": {
          "base_uri": "https://localhost:8080/"
        },
        "id": "sNwPfL_mzY-a",
        "outputId": "729217b6-1cd0-4afd-e093-e84ca6e455d4"
      },
      "execution_count": null,
      "outputs": [
        {
          "output_type": "stream",
          "name": "stdout",
          "text": [
            "File content:\n",
            "This is a new line.\n",
            "Appending another line.\n",
            "\n"
          ]
        }
      ]
    },
    {
      "cell_type": "markdown",
      "source": [
        "Q14.Write a program that uses the logging module to log both informational and error messages."
      ],
      "metadata": {
        "id": "h1WfhgZl0X2E"
      }
    },
    {
      "cell_type": "code",
      "source": [
        "import logging\n",
        "\n",
        "# Configure logging\n",
        "logging.basicConfig(\n",
        "    filename=\"app_log.txt\",  # Log file\n",
        "    level=logging.DEBUG,      # Capture all levels DEBUG and above\n",
        "    format=\"%(asctime)s - %(levelname)s - %(message)s\"\n",
        ")\n",
        "\n",
        "# Log an informational message\n",
        "logging.info(\"Program started successfully.\")\n",
        "\n",
        "try:\n",
        "    # Example operation: division\n",
        "    numerator = 10\n",
        "    denominator = 0\n",
        "    result = numerator / denominator\n",
        "    logging.info(f\"Division result: {result}\")\n",
        "\n",
        "except ZeroDivisionError as e:\n",
        "    logging.error(f\"Error occurred during division: {e}\")\n",
        "\n",
        "# Another informational message\n",
        "logging.info(\"Program finished execution.\")\n"
      ],
      "metadata": {
        "colab": {
          "base_uri": "https://localhost:8080/"
        },
        "id": "2IY12NEl0-5_",
        "outputId": "5caa0393-c667-46bb-9dac-04d9b5ee8992"
      },
      "execution_count": null,
      "outputs": [
        {
          "output_type": "stream",
          "name": "stderr",
          "text": [
            "ERROR:root:Error occurred during division: division by zero\n"
          ]
        }
      ]
    },
    {
      "cell_type": "markdown",
      "source": [
        "Q15.Write a Python program that prints the content of a file and handles the case when the file is empty."
      ],
      "metadata": {
        "id": "GM7WTsjY1igu"
      }
    },
    {
      "cell_type": "code",
      "source": [
        "filename = \"sample.txt\"\n",
        "\n",
        "# Create a sample file for demonstration (you can remove this part if the file already exists)\n",
        "with open(filename, \"w\") as f:\n",
        "    pass  # Creates an empty file\n",
        "\n",
        "try:\n",
        "    with open(filename, \"r\") as file:\n",
        "        lines = file.readlines()\n",
        "        if lines:  # Check if the file has any lines\n",
        "            print(\"File content:\")\n",
        "            for line in lines:\n",
        "                print(line.strip())\n",
        "        else:\n",
        "            print(f\"The file '{filename}' is empty.\")\n",
        "\n",
        "except FileNotFoundError:\n",
        "    print(f\"Error: The file '{filename}' does not exist.\")\n"
      ],
      "metadata": {
        "colab": {
          "base_uri": "https://localhost:8080/"
        },
        "id": "LI0yOs512KZc",
        "outputId": "d38e3a1a-b73b-4266-9cec-6834089f4542"
      },
      "execution_count": null,
      "outputs": [
        {
          "output_type": "stream",
          "name": "stdout",
          "text": [
            "The file 'sample.txt' is empty.\n"
          ]
        }
      ]
    },
    {
      "cell_type": "markdown",
      "source": [
        "Q16.Demonstrate how to use memory profiling to check the memory usage of a small program."
      ],
      "metadata": {
        "id": "ThiZiRQ5312R"
      }
    },
    {
      "cell_type": "code",
      "source": [
        "from memory_profiler import profile\n",
        "\n",
        "@profile\n",
        "def create_list():\n",
        "    # Create a list of numbers\n",
        "    numbers = [i for i in range(100000)]\n",
        "    return numbers\n",
        "\n",
        "@profile\n",
        "def main():\n",
        "    my_list = create_list()\n",
        "    print(\"List created with\", len(my_list), \"elements\")\n",
        "\n",
        "if __name__ == \"__main__\":\n",
        "    main()\n"
      ],
      "metadata": {
        "colab": {
          "base_uri": "https://localhost:8080/",
          "height": 401
        },
        "id": "IxcgRqDF5Bbp",
        "outputId": "4b1f725e-0f5b-409f-b564-69173cbfa09e"
      },
      "execution_count": null,
      "outputs": [
        {
          "output_type": "error",
          "ename": "ModuleNotFoundError",
          "evalue": "No module named 'memory_profiler'",
          "traceback": [
            "\u001b[0;31m---------------------------------------------------------------------------\u001b[0m",
            "\u001b[0;31mModuleNotFoundError\u001b[0m                       Traceback (most recent call last)",
            "\u001b[0;32m/tmp/ipython-input-1205959409.py\u001b[0m in \u001b[0;36m<cell line: 0>\u001b[0;34m()\u001b[0m\n\u001b[0;32m----> 1\u001b[0;31m \u001b[0;32mfrom\u001b[0m \u001b[0mmemory_profiler\u001b[0m \u001b[0;32mimport\u001b[0m \u001b[0mprofile\u001b[0m\u001b[0;34m\u001b[0m\u001b[0;34m\u001b[0m\u001b[0m\n\u001b[0m\u001b[1;32m      2\u001b[0m \u001b[0;34m\u001b[0m\u001b[0m\n\u001b[1;32m      3\u001b[0m \u001b[0;34m@\u001b[0m\u001b[0mprofile\u001b[0m\u001b[0;34m\u001b[0m\u001b[0;34m\u001b[0m\u001b[0m\n\u001b[1;32m      4\u001b[0m \u001b[0;32mdef\u001b[0m \u001b[0mcreate_list\u001b[0m\u001b[0;34m(\u001b[0m\u001b[0;34m)\u001b[0m\u001b[0;34m:\u001b[0m\u001b[0;34m\u001b[0m\u001b[0;34m\u001b[0m\u001b[0m\n\u001b[1;32m      5\u001b[0m     \u001b[0;31m# Create a list of numbers\u001b[0m\u001b[0;34m\u001b[0m\u001b[0;34m\u001b[0m\u001b[0m\n",
            "\u001b[0;31mModuleNotFoundError\u001b[0m: No module named 'memory_profiler'",
            "",
            "\u001b[0;31m---------------------------------------------------------------------------\u001b[0;32m\nNOTE: If your import is failing due to a missing package, you can\nmanually install dependencies using either !pip or !apt.\n\nTo view examples of installing some common dependencies, click the\n\"Open Examples\" button below.\n\u001b[0;31m---------------------------------------------------------------------------\u001b[0m\n"
          ],
          "errorDetails": {
            "actions": [
              {
                "action": "open_url",
                "actionText": "Open Examples",
                "url": "/notebooks/snippets/importing_libraries.ipynb"
              }
            ]
          }
        }
      ]
    },
    {
      "cell_type": "markdown",
      "source": [
        "Q17.Write a Python program to create and write a list of numbers to a file, one number per line.\n"
      ],
      "metadata": {
        "id": "YFM8dBAD6K9S"
      }
    },
    {
      "cell_type": "code",
      "source": [
        "# List of numbers\n",
        "numbers = [10, 20, 30, 40, 50]\n",
        "\n",
        "# Open file in write mode\n",
        "with open(\"numbers.txt\", \"w\") as file:\n",
        "    for number in numbers:\n",
        "        file.write(f\"{number}\\n\")  # Write each number on a new line\n",
        "\n",
        "# Verify by reading the file\n",
        "with open(\"numbers.txt\", \"r\") as file:\n",
        "    content = file.read()\n",
        "    print(\"Contents of numbers.txt:\")\n",
        "    print(content)\n"
      ],
      "metadata": {
        "colab": {
          "base_uri": "https://localhost:8080/"
        },
        "id": "rgMHTLY66fSp",
        "outputId": "fef0c600-818d-4602-e325-25118292b68e"
      },
      "execution_count": null,
      "outputs": [
        {
          "output_type": "stream",
          "name": "stdout",
          "text": [
            "Contents of numbers.txt:\n",
            "10\n",
            "20\n",
            "30\n",
            "40\n",
            "50\n",
            "\n"
          ]
        }
      ]
    },
    {
      "cell_type": "markdown",
      "source": [
        "Q18. How would you implement a basic logging setup that logs to a file with rotation after 1MB?"
      ],
      "metadata": {
        "id": "UGouT3lT60sc"
      }
    },
    {
      "cell_type": "code",
      "source": [
        "import logging\n",
        "from logging.handlers import RotatingFileHandler\n",
        "\n",
        "# Configure a rotating log handler\n",
        "handler = RotatingFileHandler(\n",
        "    \"app_rotating.log\",    # Log file name\n",
        "    maxBytes=1*1024*1024,  # 1MB\n",
        "    backupCount=3           # Keep 3 backup files\n",
        ")\n",
        "\n",
        "# Configure logging\n",
        "logging.basicConfig(\n",
        "    level=logging.INFO,\n",
        "    handlers=[handler],\n",
        "    format=\"%(asctime)s - %(levelname)s - %(message)s\"\n",
        ")\n",
        "\n",
        "# Log some messages\n",
        "for i in range(10000):\n",
        "    logging.info(f\"This is log message number {i}\")\n",
        "\n",
        "print(\"Logging complete. Check 'app_rotating.log' and backup files.\")\n"
      ],
      "metadata": {
        "colab": {
          "base_uri": "https://localhost:8080/"
        },
        "id": "Ky0Efa8367wu",
        "outputId": "30bbcef4-b665-44d0-8825-05a6635c113e"
      },
      "execution_count": null,
      "outputs": [
        {
          "output_type": "stream",
          "name": "stdout",
          "text": [
            "Logging complete. Check 'app_rotating.log' and backup files.\n"
          ]
        }
      ]
    },
    {
      "cell_type": "markdown",
      "source": [
        "Q19.Write a program that handles both IndexError and KeyError using a try-except block."
      ],
      "metadata": {
        "id": "t1pG-mEe9gdK"
      }
    },
    {
      "cell_type": "code",
      "source": [
        "# Sample list and dictionary\n",
        "my_list = [10, 20, 30]\n",
        "my_dict = {\"name\": \"Alice\", \"age\": 25}\n",
        "\n",
        "try:\n",
        "    # Attempt to access an invalid list index\n",
        "    print(\"Accessing list index 5:\", my_list[5])\n",
        "\n",
        "    # Attempt to access a non-existent dictionary key\n",
        "    print(\"Accessing dictionary key 'address':\", my_dict[\"address\"])\n",
        "\n",
        "except IndexError:\n",
        "    print(\"Error: List index out of range!\")\n",
        "\n",
        "except KeyError:\n",
        "    print(\"Error: Dictionary key does not exist!\")\n",
        "\n",
        "except Exception as e:\n",
        "    print(\"An unexpected error occurred:\", e)\n"
      ],
      "metadata": {
        "colab": {
          "base_uri": "https://localhost:8080/"
        },
        "id": "eDWD3mtb9wmG",
        "outputId": "74c09798-e439-421c-8a49-c61371ddc546"
      },
      "execution_count": null,
      "outputs": [
        {
          "output_type": "stream",
          "name": "stdout",
          "text": [
            "Error: List index out of range!\n"
          ]
        }
      ]
    },
    {
      "cell_type": "markdown",
      "source": [
        "Q20.How would you open a file and read its contents using a context manager in Python"
      ],
      "metadata": {
        "id": "YZi9lrNN93xH"
      }
    },
    {
      "cell_type": "code",
      "source": [
        "filename = \"example.txt\"\n",
        "\n",
        "# Create a sample file for demonstration\n",
        "with open(filename, \"w\") as f:\n",
        "    f.write(\"Hello,Daksha!\\nWelcome to file handling.\")\n",
        "\n",
        "# Open and read the file using a context manager\n",
        "with open(filename, \"r\") as file:\n",
        "    content = file.read()\n",
        "    print(\"File content:\")\n",
        "    print(content)\n"
      ],
      "metadata": {
        "colab": {
          "base_uri": "https://localhost:8080/"
        },
        "id": "Vu7EH8kE-Pd5",
        "outputId": "31a0e946-3cf7-42e6-fffd-cdb4b109a0bb"
      },
      "execution_count": null,
      "outputs": [
        {
          "output_type": "stream",
          "name": "stdout",
          "text": [
            "File content:\n",
            "Hello,Daksha!\n",
            "Welcome to file handling.\n"
          ]
        }
      ]
    },
    {
      "cell_type": "markdown",
      "source": [
        "Q21.Write a Python program that reads a file and prints the number of occurrences of a specific word.\n"
      ],
      "metadata": {
        "id": "w4FB3JuH-gja"
      }
    },
    {
      "cell_type": "code",
      "source": [
        "# Create a sample file for demonstration\n",
        "filename = \"sample.txt\"\n",
        "with open(filename, \"w\") as file:\n",
        "    file.write(\"Python is great. Python is easy to learn. I love Python!\\n\")\n",
        "\n",
        "# Word to count\n",
        "word_to_count = \"Python\"\n",
        "\n",
        "# Read the file and count occurrences\n",
        "try:\n",
        "    with open(filename, \"r\") as file:\n",
        "        content = file.read()\n",
        "        # Count occurrences (case-sensitive)\n",
        "        count = content.count(word_to_count)\n",
        "        print(f\"The word '{word_to_count}' occurs {count} times in the file.\")\n",
        "except FileNotFoundError:\n",
        "    print(f\"Error: The file '{filename}' does not exist.\")\n"
      ],
      "metadata": {
        "colab": {
          "base_uri": "https://localhost:8080/"
        },
        "id": "kcJ0XMzi-xBt",
        "outputId": "a5963623-9c3b-49d3-e942-df3d2ac856bd"
      },
      "execution_count": null,
      "outputs": [
        {
          "output_type": "stream",
          "name": "stdout",
          "text": [
            "The word 'Python' occurs 3 times in the file.\n"
          ]
        }
      ]
    },
    {
      "cell_type": "markdown",
      "source": [
        "Q22. How can you check if a file is empty before attempting to read its contents?"
      ],
      "metadata": {
        "id": "80oZ5iWI-2e4"
      }
    },
    {
      "cell_type": "code",
      "source": [
        "import os\n",
        "\n",
        "filename = \"sample2.txt\"\n",
        "\n",
        "# Check if the file exists and is not empty\n",
        "if os.path.exists(filename) and os.stat(filename).st_size > 0:\n",
        "    with open(filename, \"r\") as file:\n",
        "        content = file.read()\n",
        "        print(\"File content:\")\n",
        "        print(content)\n",
        "else:\n",
        "    print(f\"The file '{filename}' is empty or does not exist.\")\n"
      ],
      "metadata": {
        "colab": {
          "base_uri": "https://localhost:8080/"
        },
        "id": "QfN35tOw_Eie",
        "outputId": "f8a21e47-c154-401a-cddf-601d2ad74140"
      },
      "execution_count": null,
      "outputs": [
        {
          "output_type": "stream",
          "name": "stdout",
          "text": [
            "The file 'sample2.txt' is empty or does not exist.\n"
          ]
        }
      ]
    },
    {
      "cell_type": "markdown",
      "source": [
        "Q23.Write a Python program that writes to a log file when an error occurs during file handling.\n"
      ],
      "metadata": {
        "id": "THJOzIpl_XKD"
      }
    },
    {
      "cell_type": "code",
      "source": [
        "import logging\n",
        "\n",
        "# Configure logging\n",
        "logging.basicConfig(\n",
        "    filename=\"file_errors.log\",  # Log file\n",
        "    level=logging.ERROR,         # Log only errors\n",
        "    format=\"%(asctime)s - %(levelname)s - %(message)s\"\n",
        ")\n",
        "\n",
        "filename = \"non_existent_file.txt\"\n",
        "\n",
        "try:\n",
        "    # Attempt to open a file for reading\n",
        "    with open(filename, \"r\") as file:\n",
        "        content = file.read()\n",
        "        print(content)\n",
        "\n",
        "except FileNotFoundError as e:\n",
        "    logging.error(f\"File not found: {filename}\")\n",
        "    print(f\"Error: The file '{filename}' does not exist. Check log for details.\")\n",
        "\n",
        "except PermissionError as e:\n",
        "    logging.error(f\"Permission denied: {filename}\")\n",
        "    print(f\"Error: Permission denied for file '{filename}'. Check log for details.\")\n",
        "\n",
        "except Exception as e:\n",
        "    logging.error(f\"Unexpected error while handling file '{filename}': {e}\")\n",
        "    print(f\"An unexpected error occurred. Check log for details.\")\n"
      ],
      "metadata": {
        "colab": {
          "base_uri": "https://localhost:8080/"
        },
        "id": "-zXfwDii_oz-",
        "outputId": "a07b0fa1-257f-4367-c4ff-da7c0f726921"
      },
      "execution_count": null,
      "outputs": [
        {
          "output_type": "stream",
          "name": "stderr",
          "text": [
            "ERROR:root:File not found: non_existent_file.txt\n"
          ]
        },
        {
          "output_type": "stream",
          "name": "stdout",
          "text": [
            "Error: The file 'non_existent_file.txt' does not exist. Check log for details.\n"
          ]
        }
      ]
    }
  ]
}